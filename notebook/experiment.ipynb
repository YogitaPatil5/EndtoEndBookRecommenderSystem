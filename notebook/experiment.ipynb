{
 "cells": [
  {
   "cell_type": "markdown",
   "metadata": {},
   "source": [
    "# Book Recommendation System: Advanced Experiment Notebook\n",
    "\n",
    "This notebook demonstrates advanced data science practices for building a robust book recommendation system. It includes:\n",
    "- Data validation and cleaning\n",
    "- Error handling and logging\n",
    "- Model evaluation metrics\n",
    "- Multiple recommendation algorithms\n",
    "- Performance optimization\n",
    "- Production-ready code structure"
   ]
  },
  {
   "cell_type": "markdown",
   "metadata": {},
   "source": [
    "### Data loading and validation"
   ]
  },
  {
   "cell_type": "code",
   "execution_count": 1,
   "metadata": {},
   "outputs": [
    {
     "ename": "ModuleNotFoundError",
     "evalue": "No module named 'pandas'",
     "output_type": "error",
     "traceback": [
      "\u001b[31m---------------------------------------------------------------------------\u001b[39m",
      "\u001b[31mModuleNotFoundError\u001b[39m                       Traceback (most recent call last)",
      "\u001b[36mCell\u001b[39m\u001b[36m \u001b[39m\u001b[32mIn[1]\u001b[39m\u001b[32m, line 2\u001b[39m\n\u001b[32m      1\u001b[39m \u001b[38;5;66;03m# Import necessary libraries\u001b[39;00m\n\u001b[32m----> \u001b[39m\u001b[32m2\u001b[39m \u001b[38;5;28;01mimport\u001b[39;00m\u001b[38;5;250m \u001b[39m\u001b[34;01mpandas\u001b[39;00m\u001b[38;5;250m \u001b[39m\u001b[38;5;28;01mas\u001b[39;00m\u001b[38;5;250m \u001b[39m\u001b[34;01mpd\u001b[39;00m\n\u001b[32m      3\u001b[39m \u001b[38;5;28;01mimport\u001b[39;00m\u001b[38;5;250m \u001b[39m\u001b[34;01mnumpy\u001b[39;00m\u001b[38;5;250m \u001b[39m\u001b[38;5;28;01mas\u001b[39;00m\u001b[38;5;250m \u001b[39m\u001b[34;01mnp\u001b[39;00m\n\u001b[32m      4\u001b[39m \u001b[38;5;28;01mimport\u001b[39;00m\u001b[38;5;250m \u001b[39m\u001b[34;01mos\u001b[39;00m\n",
      "\u001b[31mModuleNotFoundError\u001b[39m: No module named 'pandas'"
     ]
    }
   ],
   "source": [
    "# Import necessary libraries\n",
    "import pandas as pd\n",
    "import numpy as np\n",
    "import os\n",
    "import logging\n",
    "from datetime import datetime\n",
    "\n",
    "# Set up logging for better debugging and monitoring\n",
    "logging.basicConfig(level=logging.INFO, format='%(asctime)s - %(levelname)s - %(message)s')\n",
    "logger = logging.getLogger(__name__)\n",
    "\n",
    "# Define file paths for the datasets\n",
    "DATA_DIR = os.path.join('notebook', 'data')\n",
    "BOOKS_PATH = os.path.join(DATA_DIR, 'BX-Books.csv')\n",
    "USERS_PATH = os.path.join(DATA_DIR, 'BX-Users.csv')\n",
    "RATINGS_PATH = os.path.join(DATA_DIR, 'BX-Book-Ratings.csv')\n",
    "\n",
    "logger.info(f\"Loading datasets from {DATA_DIR}\")\n",
    "\n",
    "# Load the datasets with appropriate options to handle encoding and bad lines\n",
    "books = pd.read_csv(BOOKS_PATH, sep=';', encoding='latin-1', on_bad_lines='skip', low_memory=False)\n",
    "users = pd.read_csv(USERS_PATH, sep=';', encoding='latin-1', on_bad_lines='skip')\n",
    "ratings = pd.read_csv(RATINGS_PATH, sep=';', encoding='latin-1', on_bad_lines='skip')\n",
    "\n",
    "logger.info(f\"Initial data shapes - Books: {books.shape}, Users: {users.shape}, Ratings: {ratings.shape}\")"
   ]
  },
  {
   "cell_type": "code",
   "execution_count": null,
   "metadata": {},
   "outputs": [],
   "source": []
  }
 ],
 "metadata": {
  "kernelspec": {
   "display_name": "Python 3",
   "language": "python",
   "name": "python3"
  },
  "language_info": {
   "codemirror_mode": {
    "name": "ipython",
    "version": 3
   },
   "file_extension": ".py",
   "mimetype": "text/x-python",
   "name": "python",
   "nbconvert_exporter": "python",
   "pygments_lexer": "ipython3",
   "version": "3.11.13"
  }
 },
 "nbformat": 4,
 "nbformat_minor": 2
}
